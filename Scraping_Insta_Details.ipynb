{
 "cells": [
  {
   "cell_type": "code",
   "execution_count": 1,
   "id": "a0351732",
   "metadata": {},
   "outputs": [
    {
     "name": "stdout",
     "output_type": "stream",
     "text": [
      "enter the instagram ID:muthu117\n",
      " Instagram Account Info \n",
      "-------------------------\n",
      "Insta Name:  Muthu😉😉\n",
      "Followers:  718\n",
      "Following:  1,197\n",
      "Posts:  59\n",
      "Insta Profile Picture\n"
     ]
    },
    {
     "data": {
      "image/jpeg": "[encoded data removed]",
      "text/plain": [
       "<IPython.core.display.Image object>"
      ]
     },
     "execution_count": 1,
     "metadata": {},
     "output_type": "execute_result"
    }
   ],
   "source": [
    "import requests as req\n",
    "from bs4 import BeautifulSoup as bs\n",
    "\n",
    "from IPython.display import Image, display\n",
    "\n",
    "username = input(\"enter the instagram ID:\")\n",
    "URL =f\"https://www.instagram.com/{username}/\"\n",
    "\n",
    "page = req.get(URL)\n",
    "contents = bs(page.content,\"html.parser\")\n",
    "# print(result.prettify())\n",
    "\n",
    "desc_result = contents.find(\"meta\",property='og:description')\n",
    "data = desc_result.attrs[\"content\"].split()\n",
    "\n",
    "image_result = contents.find(\"meta\",property='og:image')\n",
    "image_url = image_result.attrs[\"content\"]\n",
    "\n",
    "with open(username + '.jpg',\"wb\")as pic:\n",
    "        binary=req.get(image_url).content\n",
    "        pic.write(binary)\n",
    "        \n",
    "print(\" Instagram Account Info \")\n",
    "print(\"-------------------------\")\n",
    "print(\"Insta Name: \", data[-2])\n",
    "print(\"Followers: \", data[0])\n",
    "print(\"Following: \", data[2])\n",
    "print(\"Posts: \", data[4])\n",
    "print(\"Insta Profile Picture\")\n",
    "Image(filename=pic.name)"
   ]
  },
  {
   "cell_type": "code",
   "execution_count": null,
   "id": "61b27ebb",
   "metadata": {},
   "outputs": [],
   "source": []
  }
 ],
 "metadata": {
  "kernelspec": {
   "display_name": "Python 3 (ipykernel)",
   "language": "python",
   "name": "python3"
  },
  "language_info": {
   "codemirror_mode": {
    "name": "ipython",
    "version": 3
   },
   "file_extension": ".py",
   "mimetype": "text/x-python",
   "name": "python",
   "nbconvert_exporter": "python",
   "pygments_lexer": "ipython3",
   "version": "3.9.7"
  }
 },
 "nbformat": 4,
 "nbformat_minor": 5
}
